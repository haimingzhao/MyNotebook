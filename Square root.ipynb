{
 "cells": [
  {
   "cell_type": "code",
   "execution_count": null,
   "metadata": {
    "collapsed": true
   },
   "outputs": [],
   "source": [
    "f(x_n) = sqrt(x_n)\n",
    ".5*x^(-.5)*\n",
    "\n",
    "s = 0.5* (s + x/s)\n",
    "\n",
    "\n",
    "\n",
    "x/s \n",
    "\n",
    "f(x) =0\n",
    "f(x) = s - sqrt(x)\n",
    "\n",
    "f'(x) = -0.5/sqrt(x)\n",
    "\n",
    "x_nx - 2*(x - s*sqrt(x)) "
   ]
  },
  {
   "cell_type": "code",
   "execution_count": 11,
   "metadata": {
    "collapsed": true
   },
   "outputs": [],
   "source": [
    "kmax = 1000000\n",
    "d = 0.000001\n",
    "\n",
    "def sqrt(x):\n",
    "    s = 1\n",
    "    for k  in range(kmax):\n",
    "        s0 = s\n",
    "        s = 0.5 * (s + x/s)\n",
    "        if (abs(s-s0))< d:\n",
    "            return s\n",
    "    return s   "
   ]
  },
  {
   "cell_type": "code",
   "execution_count": 9,
   "metadata": {
    "collapsed": false
   },
   "outputs": [
    {
     "data": {
      "text/plain": [
       "-0.9552281367239086"
      ]
     },
     "execution_count": 9,
     "metadata": {},
     "output_type": "execute_result"
    }
   ],
   "source": [
    "sqrt(-9) #kmax = 1000"
   ]
  },
  {
   "cell_type": "code",
   "execution_count": 12,
   "metadata": {
    "collapsed": false
   },
   "outputs": [
    {
     "data": {
      "text/plain": [
       "-84.71851970041845"
      ]
     },
     "execution_count": 12,
     "metadata": {},
     "output_type": "execute_result"
    }
   ],
   "source": [
    "sqrt(-9) #kmax = 1000000"
   ]
  },
  {
   "cell_type": "markdown",
   "metadata": {},
   "source": [
    "dfgdfkjgklsdfkgjdfg\n"
   ]
  },
  {
   "cell_type": "code",
   "execution_count": null,
   "metadata": {
    "collapsed": true
   },
   "outputs": [],
   "source": []
  }
 ],
 "metadata": {
  "kernelspec": {
   "display_name": "Python 2",
   "language": "python",
   "name": "python2"
  },
  "language_info": {
   "codemirror_mode": {
    "name": "ipython",
    "version": 2
   },
   "file_extension": ".py",
   "mimetype": "text/x-python",
   "name": "python",
   "nbconvert_exporter": "python",
   "pygments_lexer": "ipython2",
   "version": "2.7.10"
  }
 },
 "nbformat": 4,
 "nbformat_minor": 0
}
