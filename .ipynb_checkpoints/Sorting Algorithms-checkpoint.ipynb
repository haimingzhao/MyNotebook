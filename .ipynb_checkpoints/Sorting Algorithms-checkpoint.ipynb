{
 "cells": [
  {
   "cell_type": "code",
   "execution_count": 2,
   "metadata": {
    "collapsed": false
   },
   "outputs": [],
   "source": [
    "import time\n",
    "\n",
    "def checkSorted(a):\n",
    "    for i in range(0, len(a)-1):\n",
    "        if (a[i]>a[i+1]) : return False\n",
    "    return True    \n",
    "\n",
    "testSet = [\n",
    "    [1],\n",
    "    [0,1],\n",
    "    [12,6],\n",
    "    [232312,34,12],\n",
    "    [1,2,4,3,1,0],\n",
    "    [2,3,5,1,6,3,7,3,4,8],\n",
    "    [2,33,54,14,62,31,7,43,24,38],\n",
    "    [2,3,5,1,6,3,7,3,4,8],\n",
    "    [1,2,3,4,5,6,7,8,1,8,10,111]\n",
    "]\n",
    "\n",
    "def checkMyFunc(func, verbose=False, test=testSet):    \n",
    "    start = time.time()\n",
    "    for i in range(0, len(test)):\n",
    "        if(verbose): print \"Unsort:\", test[i]\n",
    "        result = func(test[i])\n",
    "        if(verbose): print \"Sorted:\", result\n",
    "        if not checkSorted(result): return False\n",
    "    end = time.time() \n",
    "    print \"time spent\", end-start\n",
    "    return True  \n",
    "\n",
    "def swap(a, pos1, pos2):\n",
    "    temp = a[pos1]\n",
    "    a[pos1] = a[pos2]\n",
    "    a[pos2] = temp"
   ]
  },
  {
   "cell_type": "code",
   "execution_count": 140,
   "metadata": {
    "collapsed": false
   },
   "outputs": [
    {
     "name": "stdout",
     "output_type": "stream",
     "text": [
      "time spent 0.000171899795532\n"
     ]
    },
    {
     "data": {
      "text/plain": [
       "True"
      ]
     },
     "execution_count": 140,
     "metadata": {},
     "output_type": "execute_result"
    }
   ],
   "source": [
    "def naiveBubbleSort(a):\n",
    "    for c in range(0, len(a)):\n",
    "        for i in range(0, len(a)-1):\n",
    "            if (a[i]>a[i+1]): swap(a, i, i+1)\n",
    "    return a  \n",
    "\n",
    "checkMyFunc(naiveBubbleSort)"
   ]
  },
  {
   "cell_type": "code",
   "execution_count": 141,
   "metadata": {
    "collapsed": false
   },
   "outputs": [
    {
     "name": "stdout",
     "output_type": "stream",
     "text": [
      "time spent 3.00407409668e-05\n"
     ]
    },
    {
     "data": {
      "text/plain": [
       "True"
      ]
     },
     "execution_count": 141,
     "metadata": {},
     "output_type": "execute_result"
    }
   ],
   "source": [
    "def bubbleSort(alist):\n",
    "    swapped = True\n",
    "    while(swapped):\n",
    "        swapped = False\n",
    "        for i in range(len(alist)-1):\n",
    "            if alist[i] > alist[i+1]:\n",
    "                temp = alist[i]\n",
    "                alist[i] = alist[i+1]\n",
    "                alist[i+1] = temp\n",
    "                swapped = True\n",
    "    return alist            \n",
    "\n",
    "checkMyFunc(bubbleSort)               "
   ]
  },
  {
   "cell_type": "code",
   "execution_count": 143,
   "metadata": {
    "collapsed": false
   },
   "outputs": [
    {
     "name": "stdout",
     "output_type": "stream",
     "text": [
      "[0, 1, 1, 2, 2, 3, 3, 3, 4, 4, 4, 5, 5, 5, 6, 8]\n",
      "time spent 0.000339984893799\n"
     ]
    },
    {
     "data": {
      "text/plain": [
       "True"
      ]
     },
     "execution_count": 143,
     "metadata": {},
     "output_type": "execute_result"
    }
   ],
   "source": [
    "# merge sort\n",
    "\n",
    "def merge(a, b):\n",
    "    if (len(b) == 0):\n",
    "        return a\n",
    "    if (len(a) == 0):\n",
    "        return b\n",
    "    r = [0]* (len(a)+len(b))\n",
    "    ai = 0\n",
    "    bi = 0\n",
    "    for i in range(0, len(a)+len(b)):\n",
    "        if (bi >= len(b)):\n",
    "            r[i] = a[ai]\n",
    "            ai += 1\n",
    "        elif (ai >= len(a)) :\n",
    "            r[i] = b[bi]\n",
    "            bi += 1\n",
    "        elif (a[ai] <= b[bi]):\n",
    "            r[i] = a[ai]\n",
    "            ai += 1\n",
    "        else:\n",
    "            r[i] = b[bi]\n",
    "            bi += 1\n",
    "    return r     \n",
    "    \n",
    "\n",
    "def mergeSort(l):\n",
    "    if(len(l)==1):\n",
    "        return l\n",
    "    s = int( len(l)//2 )\n",
    "    a = l[:s]\n",
    "    b = l[s:]\n",
    "    m1 = mergeSort(a)\n",
    "    m2 = mergeSort(b)\n",
    "    return merge(m1,m2)\n",
    "\n",
    "\n",
    "a = [6,5,4,3,2,5,1,4,5,2,3,8,3,4,1,0]        \n",
    "m = mergeSort(a)\n",
    "print m\n",
    "checkMyFunc(mergeSort)"
   ]
  },
  {
   "cell_type": "code",
   "execution_count": 144,
   "metadata": {
    "collapsed": false
   },
   "outputs": [
    {
     "name": "stdout",
     "output_type": "stream",
     "text": [
      "time spent 0.000114917755127\n"
     ]
    },
    {
     "data": {
      "text/plain": [
       "True"
      ]
     },
     "execution_count": 144,
     "metadata": {},
     "output_type": "execute_result"
    }
   ],
   "source": [
    "# insert sort [1,2,4, 6|split 1, 2]\n",
    "def insert(alist, split, pos):\n",
    "    assert(split >= pos)\n",
    "    for i in range(pos, split):\n",
    "        swap(alist, i, split)\n",
    "    return alist    \n",
    "    \n",
    "def insertSortLoop(alist, split):\n",
    "    if(split < len(alist)):     \n",
    "        for i in range(0, split):\n",
    "            if(alist[i]>=alist[split]): \n",
    "                insert(alist, split, i)\n",
    "                break\n",
    "        insertSortLoop(alist, split+1)        \n",
    "                \n",
    "        \n",
    "def insertSort(alist):\n",
    "    insertSortLoop(alist, 1)\n",
    "    return alist\n",
    "\n",
    "# checkMyFunc(insertSort)\n",
    "a = [[0,2,1,3]]\n",
    "checkMyFunc(insertSort)\n",
    "# print a\n",
    "# len(a[0])"
   ]
  },
  {
   "cell_type": "code",
   "execution_count": 145,
   "metadata": {
    "collapsed": false
   },
   "outputs": [
    {
     "name": "stdout",
     "output_type": "stream",
     "text": [
      "time spent 5.19752502441e-05\n"
     ]
    },
    {
     "data": {
      "text/plain": [
       "True"
      ]
     },
     "execution_count": 145,
     "metadata": {},
     "output_type": "execute_result"
    }
   ],
   "source": [
    "def insertSortSimple(alist):\n",
    "    for i in range(1, len(alist)):\n",
    "        j = i\n",
    "        while(alist[j-1] > alist[j]):\n",
    "            swap(alist, j, j-1)\n",
    "            j -= 1\n",
    "    return alist\n",
    "\n",
    "checkMyFunc(insertSortSimple)"
   ]
  },
  {
   "cell_type": "code",
   "execution_count": 146,
   "metadata": {
    "collapsed": false
   },
   "outputs": [
    {
     "name": "stdout",
     "output_type": "stream",
     "text": [
      "time spent 9.20295715332e-05\n"
     ]
    },
    {
     "data": {
      "text/plain": [
       "True"
      ]
     },
     "execution_count": 146,
     "metadata": {},
     "output_type": "execute_result"
    }
   ],
   "source": [
    "def minSelect(alist, begin):\n",
    "    index = begin\n",
    "    for i in range(begin+1, len(alist)):\n",
    "        if(alist[i] < alist[index]):\n",
    "            index = i       \n",
    "    return index        \n",
    "\n",
    "def selectionSort(alist):\n",
    "    for i in range(0, len(alist)):\n",
    "        select = minSelect(alist, i)\n",
    "        swap(alist, i, select)\n",
    "    return alist\n",
    "\n",
    "checkMyFunc(selectionSort)"
   ]
  },
  {
   "cell_type": "code",
   "execution_count": 147,
   "metadata": {
    "collapsed": false
   },
   "outputs": [
    {
     "name": "stdout",
     "output_type": "stream",
     "text": [
      "time spent 0.000162124633789\n"
     ]
    },
    {
     "data": {
      "text/plain": [
       "True"
      ]
     },
     "execution_count": 147,
     "metadata": {},
     "output_type": "execute_result"
    }
   ],
   "source": [
    "# quitck sort\n",
    "def partition(alist, begin, end):\n",
    "    q = begin \n",
    "    v = alist[end]\n",
    "    for i in range(begin, end):\n",
    "        if (alist[i] <= v):\n",
    "            swap(alist, i, q)\n",
    "            q = q + 1\n",
    "    swap(alist, end, q)\n",
    "    return q\n",
    "\n",
    "def quickSort(alist, begin, end):\n",
    "    if (begin < end):\n",
    "        q = partition(alist, begin, end)\n",
    "        quickSort(alist, begin, q-1)\n",
    "        quickSort(alist, q+1, end)\n",
    "    return alist    \n",
    "\n",
    "def quickSortWrap(a):\n",
    "    return quickSort(a, 0, len(a)-1)\n",
    "       \n",
    "checkMyFunc(quickSortWrap)    "
   ]
  },
  {
   "cell_type": "code",
   "execution_count": 148,
   "metadata": {
    "collapsed": false
   },
   "outputs": [
    {
     "name": "stdout",
     "output_type": "stream",
     "text": [
      "[1, 2, 3, 4, 5]\n"
     ]
    }
   ],
   "source": [
    "def partition2(a, begin, end):\n",
    "    q = begin + 1 #initialise pivot position as the first one\n",
    "    pivot = a[begin] #pivot as the first one\n",
    "    for i in range(begin + 1, end + 1): # does not enclude first one, enclude end\n",
    "        if(a[i] <= pivot):\n",
    "            swap(a, i, q)\n",
    "            q = q+1        \n",
    "    swap(a, begin, q-1)\n",
    "    return q\n",
    "\n",
    "def quickSort2(a, begin, end):\n",
    "    if (begin < end):\n",
    "        q = partition2(a, begin, end)\n",
    "        quickSort2(a, begin, q-1)\n",
    "        quickSort2(a, q+1, end)\n",
    "        \n",
    "alist = [5,4,1,2,3]\n",
    "quickSort2(alist, 0, len(alist)-1)\n",
    "print(alist)        \n",
    "    "
   ]
  },
  {
   "cell_type": "code",
   "execution_count": 3,
   "metadata": {
    "collapsed": false
   },
   "outputs": [
    {
     "data": {
      "text/plain": [
       "False"
      ]
     },
     "execution_count": 3,
     "metadata": {},
     "output_type": "execute_result"
    }
   ],
   "source": [
    "def bucketCompute(bucketList):\n",
    "    for i in range(1, len(bucketList)):\n",
    "        bucketList[i] += bucketList[i-1]\n",
    "#     print \"bucketList\", bucketList  \n",
    "    return bucketList    \n",
    "        \n",
    "def putList(alist, bucketList, digit):\n",
    "    newList = [0]*len(alist)\n",
    "    for i in range(0, len(alist)):\n",
    "        bucket = (alist[i] / 10**digit)%10\n",
    "        newList[bucketList[bucket]-1] = alist[i]\n",
    "        bucketList[bucket] -= 1\n",
    "    return alist    \n",
    "        \n",
    "def radixSortLoop(alist, digit):\n",
    "    bucketList = [0]* 10\n",
    "    \n",
    "#     putting in bucket\n",
    "    for i in range(0, len(alist)):\n",
    "        bucket = (alist[i] / 10**digit)%10 \n",
    "        bucketList[bucket] += 1\n",
    "    \n",
    "    if(bucketList[0] == len(alist)):\n",
    "        return alist\n",
    "        \n",
    "    newList = putList(alist, bucketCompute(bucketList), digit)\n",
    "    return radixSortLoop(newList, digit+1)\n",
    "    \n",
    "\n",
    "def radixSort(alist):\n",
    "    return radixSortLoop(alist, 0)\n",
    "  \n",
    "checkMyFunc(radixSort)    "
   ]
  },
  {
   "cell_type": "code",
   "execution_count": 150,
   "metadata": {
    "collapsed": false
   },
   "outputs": [
    {
     "data": {
      "text/plain": [
       "0"
      ]
     },
     "execution_count": 150,
     "metadata": {},
     "output_type": "execute_result"
    }
   ],
   "source": [
    "# getting the n digit\n",
    "(120 / 10**0)%10\n"
   ]
  },
  {
   "cell_type": "code",
   "execution_count": 153,
   "metadata": {
    "collapsed": false
   },
   "outputs": [],
   "source": [
    "# def heapSort(alist):\n"
   ]
  },
  {
   "cell_type": "code",
   "execution_count": 4,
   "metadata": {
    "collapsed": false
   },
   "outputs": [
    {
     "data": {
      "image/png": "[encoded data removed]",
      "text/plain": [
       "<matplotlib.figure.Figure at 0x1086ac250>"
      ]
     },
     "metadata": {},
     "output_type": "display_data"
    }
   ],
   "source": [
    "#  plotting\n",
    "import matplotlib.pyplot as pyplot\n",
    "import numpy as np\n",
    "\n",
    "def randArray(length):\n",
    "    array = [0]*length\n",
    "    for i in range(0, length):\n",
    "        array[i] = np.random.randint(0,100)\n",
    "    return array\n",
    "\n",
    "def getRunTime(func, length):\n",
    "    array = randArray(length)\n",
    "    start = time.time()\n",
    "    func(array)\n",
    "    end = time.time()\n",
    "    return end - start\n",
    "\n",
    "n = 10000\n",
    "func = radixSort \n",
    "x = np.array([i for i in range(0,n)])\n",
    "y = np.array([getRunTime(func, i) for i in range(0,n)])\n",
    "\n",
    "%matplotlib inline\n",
    "pyplot.plot(x,y)\n",
    "pyplot.show()"
   ]
  },
  {
   "cell_type": "code",
   "execution_count": null,
   "metadata": {
    "collapsed": true
   },
   "outputs": [],
   "source": []
  }
 ],
 "metadata": {
  "kernelspec": {
   "display_name": "Python 2",
   "language": "python",
   "name": "python2"
  },
  "language_info": {
   "codemirror_mode": {
    "name": "ipython",
    "version": 2
   },
   "file_extension": ".py",
   "mimetype": "text/x-python",
   "name": "python",
   "nbconvert_exporter": "python",
   "pygments_lexer": "ipython2",
   "version": "2.7.10"
  }
 },
 "nbformat": 4,
 "nbformat_minor": 0
}
